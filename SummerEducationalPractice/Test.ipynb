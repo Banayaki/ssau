{
  "cells": [
    {
      "cell_type": "code",
      "execution_count": 8,
      "metadata": {
        "pycharm": {}
      },
      "outputs": [],
      "source": [
        "import numpy as np\n",
        "import cv2\n",
        "import matplotlib.pyplot as plt\n",
        "from scipy import ndimage"
      ]
    },
    {
      "cell_type": "code",
      "execution_count": 127,
      "metadata": {
        "pycharm": {}
      },
      "outputs": [],
      "source": [
        "def f(_focal_length, _k, _theta):\n",
        "    if _k \u003e 0:\n",
        "        return _focal_length / _k * np.tan(_k * _theta)\n",
        "    elif _k \u003c 0:\n",
        "        return _focal_length / _k * np.sin(_k * _theta)\n",
        "    else:\n",
        "        return _focal_length * _theta\n",
        "    pass"
      ]
    },
    {
      "cell_type": "code",
      "execution_count": 3,
      "metadata": {
        "pycharm": {}
      },
      "outputs": [],
      "source": [
        "source_map \u003d np.indices((900, 900), dtype\u003dnp.int32)\n",
        "cy, cx \u003d np.array((900, 900)) // 2\n",
        "center \u003d np.array([[[cx]], [[cy]]])\n",
        "source_map \u003d source_map - center"
      ]
    },
    {
      "cell_type": "code",
      "execution_count": 4,
      "metadata": {
        "pycharm": {}
      },
      "outputs": [
        {
          "data": {
            "text/plain": [
              "array([[-450, -450, -450, ..., -450, -450, -450],\n",
              "       [-449, -449, -449, ..., -449, -449, -449],\n",
              "       [-448, -448, -448, ..., -448, -448, -448],\n",
              "       ...,\n",
              "       [ 447,  447,  447, ...,  447,  447,  447],\n",
              "       [ 448,  448,  448, ...,  448,  448,  448],\n",
              "       [ 449,  449,  449, ...,  449,  449,  449]])"
            ]
          },
          "execution_count": 4,
          "metadata": {},
          "output_type": "execute_result"
        }
      ],
      "source": [
        "source_map[0]"
      ]
    },
    {
      "cell_type": "code",
      "execution_count": 5,
      "metadata": {
        "pycharm": {}
      },
      "outputs": [
        {
          "data": {
            "text/plain": [
              "(900, 900)"
            ]
          },
          "execution_count": 5,
          "metadata": {},
          "output_type": "execute_result"
        }
      ],
      "source": [
        "source_radius \u003d np.sqrt(source_map[0] * source_map[0] + source_map[1] * source_map[1])\n",
        "source_radius.shape"
      ]
    },
    {
      "cell_type": "code",
      "execution_count": 6,
      "metadata": {
        "pycharm": {}
      },
      "outputs": [
        {
          "data": {
            "text/plain": [
              "(900, 900)"
            ]
          },
          "execution_count": 6,
          "metadata": {},
          "output_type": "execute_result"
        }
      ],
      "source": [
        "angle \u003d np.arctan2(source_map[1], source_map[0])\n",
        "angle.shape"
      ]
    },
    {
      "cell_type": "code",
      "execution_count": 7,
      "metadata": {
        "pycharm": {}
      },
      "outputs": [
        {
          "data": {
            "text/plain": [
              "(900, 900)"
            ]
          },
          "execution_count": 7,
          "metadata": {},
          "output_type": "execute_result"
        }
      ],
      "source": [
        "theta \u003d source_radius / 120\n",
        "theta.shape"
      ]
    },
    {
      "cell_type": "code",
      "execution_count": 8,
      "metadata": {
        "pycharm": {}
      },
      "outputs": [
        {
          "data": {
            "text/plain": [
              "(900, 900)"
            ]
          },
          "execution_count": 8,
          "metadata": {},
          "output_type": "execute_result"
        }
      ],
      "source": [
        "dist_radius \u003d f(120, 1, theta)\n",
        "dist_radius.shape"
      ]
    },
    {
      "cell_type": "code",
      "execution_count": 9,
      "metadata": {
        "pycharm": {}
      },
      "outputs": [
        {
          "data": {
            "text/plain": [
              "(900, 900)"
            ]
          },
          "execution_count": 9,
          "metadata": {},
          "output_type": "execute_result"
        }
      ],
      "source": [
        "map_x \u003d dist_radius * np.cos(angle) + cx\n",
        "map_y \u003d dist_radius * np.sin(angle) + cy\n",
        "map_x.shape"
      ]
    },
    {
      "cell_type": "code",
      "execution_count": 10,
      "metadata": {
        "pycharm": {}
      },
      "outputs": [
        {
          "data": {
            "text/plain": [
              "(900, 900, 3)"
            ]
          },
          "execution_count": 10,
          "metadata": {},
          "output_type": "execute_result"
        }
      ],
      "source": [
        "img \u003d cv2.imread(r\u0027C:\\Users\\Banayaki\\Downloads\\rthickgrid-01_repeat_preview.png\u0027)\n",
        "dist_img \u003d cv2.remap(img, map_x.astype(np.float32), map_y.astype(np.float32), cv2.INTER_LINEAR)\n",
        "dist_img.shape"
      ]
    },
    {
      "cell_type": "code",
      "execution_count": 11,
      "metadata": {
        "scrolled": false,
        "pycharm": {}
      },
      "outputs": [
        {
          "data": {
            "text/plain": [
              "\u003cmatplotlib.image.AxesImage at 0x26a3ccd9b70\u003e"
            ]
          },
          "execution_count": 11,
          "metadata": {},
          "output_type": "execute_result"
        },
        {
          "data": {
            "image/png": "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\u003d\u003d\n",
            "text/plain": [
              "\u003cFigure size 432x288 with 1 Axes\u003e"
            ]
          },
          "metadata": {
            "needs_background": "light"
          },
          "output_type": "display_data"
        }
      ],
      "source": "plt.imshow(dist_img)"
    },
    {
      "cell_type": "markdown",
      "source": "# Vectorized",
      "metadata": {
        "pycharm": {
          "metadata": false
        }
      }
    },
    {
      "cell_type": "code",
      "execution_count": 134,
      "metadata": {
        "pycharm": {}
      },
      "outputs": [],
      "source": "filename \u003d \u00273.png\u0027"
    },
    {
      "cell_type": "code",
      "execution_count": 135,
      "metadata": {
        "pycharm": {}
      },
      "outputs": [],
      "source": "img \u003d cv2.imread(rf\u0027{filename}\u0027)\nimg \u003d cv2.cvtColor(img, cv2.COLOR_BGR2RGB)"
    },
    {
      "cell_type": "code",
      "execution_count": 151,
      "metadata": {
        "pycharm": {}
      },
      "outputs": [
        {
          "name": "stdout",
          "output_type": "stream",
          "text": [
            "CPU times: user 381 ms, sys: 3.68 ms, total: 384 ms\n",
            "Wall time: 364 ms\n"
          ]
        },
        {
          "data": {
            "text/plain": [
              "\u003cmatplotlib.image.AxesImage at 0x7f586f66d908\u003e"
            ]
          },
          "execution_count": 151,
          "metadata": {},
          "output_type": "execute_result"
        },
        {
          "data": {
            "image/png": "[encoded data removed]",
            "text/plain": [
              "\u003cFigure size 432x288 with 1 Axes\u003e"
            ]
          },
          "metadata": {
            "needs_background": "light"
          },
          "output_type": "display_data"
        }
      ],
      "source": [
        "%%time\n",
        "focal_length \u003d 500\n",
        "k \u003d -1\n",
        "\n",
        "img_shape \u003d img.shape[:2]\n",
        "source_map \u003d np.indices(img_shape, dtype\u003dnp.int32)\n",
        "cy, cx \u003d np.array(img_shape) // 2\n",
        "center \u003d np.array([[[cy]], [[cx]]])\n",
        "source_map \u003d source_map - center\n",
        "source_radius \u003d np.sqrt(source_map[0] * source_map[0] + source_map[1] * source_map[1])\n",
        "angle \u003d np.arctan2(source_map[0], source_map[1])\n",
        "# theta \u003d source_radius / focal_length\n",
        "theta \u003d np.arctan2(source_radius, focal_length)\n",
        "\n",
        "dist_radius \u003d f(focal_length, k, theta)\n",
        "# dist_radius \u003d focal_length * np.sin(np.arctan2(source_radius, focal_length))\n",
        "\n",
        "map_x \u003d dist_radius * np.cos(angle) + cx\n",
        "map_y \u003d dist_radius * np.sin(angle) + cy\n",
        "dist_img \u003d cv2.remap(img, map_x.astype(np.float32),  map_y.astype(np.float32), cv2.INTER_LINEAR)\n",
        "plt.imshow(dist_img)"
      ]
    },
    {
      "cell_type": "code",
      "execution_count": 8,
      "metadata": {
        "pycharm": {}
      },
      "outputs": [
        {
          "data": {
            "text/plain": [
              "\u003cmatplotlib.image.AxesImage at 0x18c8ee572b0\u003e"
            ]
          },
          "execution_count": 8,
          "metadata": {},
          "output_type": "execute_result"
        },
        {
          "data": {
            "image/png": "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\u003d\u003d\n",
            "text/plain": [
              "\u003cFigure size 432x288 with 1 Axes\u003e"
            ]
          },
          "metadata": {
            "needs_background": "light"
          },
          "output_type": "display_data"
        }
      ],
      "source": [
        "dist_image \u003d np.zeros(np.array(img.shape), np.uint8)\n",
        "for source_x in range(img.shape[1]):\n",
        "    for source_y in range(img.shape[0]):\n",
        "        dist_img[int(round(map_y[source_y][source_x]))][int(round(map_x[source_y][source_x]))] \u003d img[source_y][source_x]\n",
        "plt.imshow(dist_img)"
      ]
    },
    {
      "cell_type": "code",
      "execution_count": null,
      "metadata": {
        "pycharm": {}
      },
      "outputs": [],
      "source": []
    },
    {
      "cell_type": "code",
      "execution_count": null,
      "metadata": {
        "pycharm": {}
      },
      "outputs": [],
      "source": "\n"
    }
  ],
  "metadata": {
    "kernelspec": {
      "display_name": "Python 3",
      "language": "python",
      "name": "python3"
    },
    "language_info": {
      "codemirror_mode": {
        "name": "ipython",
        "version": 3
      },
      "file_extension": ".py",
      "mimetype": "text/x-python",
      "name": "python",
      "nbconvert_exporter": "python",
      "pygments_lexer": "ipython3",
      "version": "3.7.3"
    }
  },
  "nbformat": 4,
  "nbformat_minor": 1
}